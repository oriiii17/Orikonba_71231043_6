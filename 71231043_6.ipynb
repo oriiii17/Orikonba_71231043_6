{
 "cells": [
  {
   "cell_type": "code",
   "execution_count": 3,
   "id": "df505adc-bd2e-4803-9993-f18e1a95de70",
   "metadata": {},
   "outputs": [
    {
     "name": "stdout",
     "output_type": "stream",
     "text": [
      "Dewasa\n"
     ]
    }
   ],
   "source": [
    "#contoh 1\n",
    "umur = 35\n",
    "if umur <= 10:\n",
    "    print(\"Anak-anak\")\n",
    "elif umur <= 18:\n",
    "    print(\"Remaja\")\n",
    "elif umur <= 35:\n",
    "    if umur <= 25:\n",
    "        print(\"Dewasa muda\")\n",
    "    else:\n",
    "        print(\"Dewasa\")\n",
    "else:\n",
    "    print(\"Lansia\")\n"
   ]
  },
  {
   "cell_type": "code",
   "execution_count": 4,
   "id": "e2ccbe73-8795-4278-854b-32bdb098bd73",
   "metadata": {},
   "outputs": [
    {
     "name": "stdin",
     "output_type": "stream",
     "text": [
      "Masukkan nama hari:  Sabtu\n"
     ]
    },
    {
     "name": "stdout",
     "output_type": "stream",
     "text": [
      "Hari libur\n"
     ]
    }
   ],
   "source": [
    "#contoh 2\n",
    "hari = input(\"Masukkan nama hari: \")\n",
    "if hari == \"Senin\":\n",
    "    print(\"Hari kerja\")\n",
    "elif hari == \"Sabtu\" or hari == \"Minggu\":\n",
    "    print(\"Hari libur\")\n",
    "else:\n",
    "    print(\"Hari biasa\")"
   ]
  },
  {
   "cell_type": "code",
   "execution_count": 5,
   "id": "30c7a6ea-0ee3-4a22-9bfb-affdbff745e7",
   "metadata": {},
   "outputs": [
    {
     "name": "stdout",
     "output_type": "stream",
     "text": [
      "Nilai B\n"
     ]
    }
   ],
   "source": [
    "#contoh percabangan bertingkat dengan IF bertingkat dengan 4 kondisi\n",
    "nilai = 75\n",
    "if nilai >= 80:\n",
    "    print(\"Nilai A\")\n",
    "else:\n",
    "    if nilai >= 70:\n",
    "        print(\"Nilai B\")\n",
    "    else:\n",
    "        if nilai >= 60:\n",
    "            print(\"Nilai C\")\n",
    "        else:\n",
    "            if nilai >= 50:\n",
    "                print(\"Nilai D\")\n",
    "            else:\n",
    "                print(\"Nilai E\")"
   ]
  },
  {
   "cell_type": "code",
   "execution_count": 8,
   "id": "83b90320-816d-406d-9657-248ee0a86cf4",
   "metadata": {},
   "outputs": [
    {
     "name": "stdin",
     "output_type": "stream",
     "text": [
      "Masukkan sebuah bilangan bulat positif:  11\n"
     ]
    },
    {
     "name": "stdout",
     "output_type": "stream",
     "text": [
      "2 adalah bilangan prima\n",
      "3 adalah bilangan prima\n",
      "5 adalah bilangan prima\n",
      "7 adalah bilangan prima\n"
     ]
    }
   ],
   "source": [
    "#contoh Sturktur Perulangan Kompleks \"break\" untuk mencari bilangan prima\n",
    "\n",
    "n = int(input(\"Masukkan sebuah bilangan bulat positif: \"))\n",
    "\n",
    "for angka in range(2, n):\n",
    "    prima = True\n",
    "    for i in range(2, int(angka ** 0.5) + 1):\n",
    "        if angka % i == 0:\n",
    "            prima = False\n",
    "            break  \n",
    "    if prima:\n",
    "        print(f\"{angka} adalah bilangan prima\")"
   ]
  },
  {
   "cell_type": "code",
   "execution_count": 15,
   "id": "e7a3e443-64ee-4ad8-88c6-70dec20a28f8",
   "metadata": {},
   "outputs": [
    {
     "name": "stdin",
     "output_type": "stream",
     "text": [
      "Masukkan sebuah bilangan bulat positif:  26\n"
     ]
    },
    {
     "name": "stdout",
     "output_type": "stream",
     "text": [
      "2 adalah bilangan prima\n",
      "3 adalah bilangan prima\n",
      "5 adalah bilangan prima\n",
      "7 adalah bilangan prima\n",
      "11 adalah bilangan prima\n",
      "13 adalah bilangan prima\n",
      "17 adalah bilangan prima\n",
      "19 adalah bilangan prima\n",
      "23 adalah bilangan prima\n"
     ]
    }
   ],
   "source": [
    "#contoh Struktur Perulangan Kompleks \"continue\" \n",
    "\n",
    "n = int(input(\"Masukkan sebuah bilangan bulat positif: \"))\n",
    "\n",
    "for angka in range(2, n):\n",
    "    prima = True\n",
    "    for i in range(2, int(angka ** 0.5) + 1):\n",
    "        if angka % i == 0:\n",
    "            prima = False\n",
    "            continue \n",
    "    if prima:\n",
    "        print(f\"{angka} adalah bilangan prima\")"
   ]
  },
  {
   "cell_type": "code",
   "execution_count": 16,
   "id": "f20593c8-4494-4407-8203-8c787ffd2afb",
   "metadata": {},
   "outputs": [
    {
     "name": "stdout",
     "output_type": "stream",
     "text": [
      "1 \n",
      "1 2 \n",
      "1 2 3 \n",
      "1 2 3 4 \n",
      "1 2 3 4 5 \n"
     ]
    }
   ],
   "source": [
    "#contoh Sturktur Perulangan Bertingkat\n",
    "n = 5\n",
    "for i in range(1, n + 1):\n",
    "    for j in range(1, i + 1):\n",
    "        print(j, end=' ')\n",
    "    print()"
   ]
  },
  {
   "cell_type": "code",
   "execution_count": 17,
   "id": "f96f1818-c505-40ec-99b1-51b360113990",
   "metadata": {},
   "outputs": [
    {
     "name": "stdin",
     "output_type": "stream",
     "text": [
      "Masukkan sebuah bilangan bulat positif:  20\n"
     ]
    },
    {
     "name": "stdout",
     "output_type": "stream",
     "text": [
      "Bilangan prima terdekat yang kurang dari 20 adalah: 19\n"
     ]
    }
   ],
   "source": [
    "#Latihan 6.1\n",
    "def primaterdekatkurangn(n):\n",
    "    prima = lambda angka : angka > 1 and all(angka % i != 0 for i in range(2, int(angka ** 0.5) + 1))\n",
    "    \n",
    "    if n <= 2:\n",
    "        return None\n",
    "    \n",
    "    for angka in range(n - 1, 1, -1):\n",
    "        if prima(angka):\n",
    "            return angka\n",
    "\n",
    "n = int(input(\"Masukkan sebuah bilangan bulat positif: \"))\n",
    "\n",
    "terdekatprima = primaterdekatkurangn(n)\n",
    "if terdekatprima is None:\n",
    "    print(\"Tidak ada bilangan prima yang kurang dari\", n)\n",
    "else:\n",
    "    print(\"Bilangan prima terdekat yang kurang dari\", n, \"adalah:\", terdekatprima)\n"
   ]
  },
  {
   "cell_type": "code",
   "execution_count": 21,
   "id": "4691a07e-1769-49d2-95a0-8fe6c42aa750",
   "metadata": {},
   "outputs": [
    {
     "name": "stdout",
     "output_type": "stream",
     "text": [
      "1 0 0 0 0 0 \n",
      "6 1 0 0 0 \n",
      "30 7 2 1 \n",
      "120 40 20 \n",
      "360 180 \n",
      "720 \n"
     ]
    }
   ],
   "source": [
    "#Latihan 6.2\n",
    "def deretsegitiga(n):\n",
    "    total = 1\n",
    "    for i in range(n, 0, -1):\n",
    "        temp_total = total\n",
    "        for j in range(i, 0, -1):\n",
    "            print(temp_total, end=' ')\n",
    "            temp_total //= j\n",
    "        total *= i\n",
    "        print()\n",
    "\n",
    "n = 6\n",
    "deretsegitiga(n)\n"
   ]
  },
  {
   "cell_type": "code",
   "execution_count": 22,
   "id": "e8d3a255-b1ce-4ad1-b561-5a640a26bf1e",
   "metadata": {},
   "outputs": [
    {
     "name": "stdin",
     "output_type": "stream",
     "text": [
      "Masukkan tinggi deret:  5\n",
      "Masukkan lebar deret:  4\n"
     ]
    },
    {
     "name": "stdout",
     "output_type": "stream",
     "text": [
      "1 2 3 4 \n",
      "5 6 7 8 \n",
      "9 10 11 12 \n",
      "13 14 15 16 \n",
      "17 18 19 20 \n"
     ]
    }
   ],
   "source": [
    "#Latihan 6.3\n",
    "def deret(tinggi, lebar):\n",
    "    start = 1\n",
    "    for i in range(tinggi):\n",
    "        for j in range(lebar):\n",
    "            print(start, end=' ')\n",
    "            start += 1\n",
    "        print()\n",
    "\n",
    "tinggi = int(input(\"Masukkan tinggi deret: \"))\n",
    "lebar = int(input(\"Masukkan lebar deret: \"))\n",
    "deret(tinggi, lebar)"
   ]
  },
  {
   "cell_type": "code",
   "execution_count": null,
   "id": "1e8c8517-27de-4d68-b5cb-3106552236dd",
   "metadata": {},
   "outputs": [],
   "source": []
  }
 ],
 "metadata": {
  "kernelspec": {
   "display_name": "Python 3 (ipykernel)",
   "language": "python",
   "name": "python3"
  },
  "language_info": {
   "codemirror_mode": {
    "name": "ipython",
    "version": 3
   },
   "file_extension": ".py",
   "mimetype": "text/x-python",
   "name": "python",
   "nbconvert_exporter": "python",
   "pygments_lexer": "ipython3",
   "version": "3.11.7"
  }
 },
 "nbformat": 4,
 "nbformat_minor": 5
}
